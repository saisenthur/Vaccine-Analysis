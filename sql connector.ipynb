{
 "cells": [
  {
   "cell_type": "code",
   "execution_count": 12,
   "metadata": {},
   "outputs": [],
   "source": [
    "import mysql\n",
    "from mysql import connector"
   ]
  },
  {
   "cell_type": "code",
   "execution_count": 13,
   "metadata": {},
   "outputs": [
    {
     "name": "stdout",
     "output_type": "stream",
     "text": [
      "<mysql.connector.connection_cext.CMySQLConnection object at 0x00000174DCEAFB10>\n"
     ]
    }
   ],
   "source": [
    "con = connector.connect(\n",
    "    host=\"localhost\",\n",
    "    user=\"root\",\n",
    "    password=\"Saisenthur@13\",\n",
    "    )\n",
    "print(con)"
   ]
  },
  {
   "cell_type": "code",
   "execution_count": 14,
   "metadata": {},
   "outputs": [],
   "source": [
    "mycursor=con.cursor()\n",
    "mycursor.execute(\"CREATE DATABASE Vaccine_Analysis\")"
   ]
  },
  {
   "cell_type": "code",
   "execution_count": 15,
   "metadata": {},
   "outputs": [
    {
     "name": "stderr",
     "output_type": "stream",
     "text": [
      "C:\\Users\\saisenthur\\AppData\\Local\\Temp\\ipykernel_23052\\822854403.py:2: DtypeWarning: Columns (10) have mixed types. Specify dtype option on import or set low_memory=False.\n",
      "  df1=pd.read_csv('C:/Users/saisenthur/OneDrive/Desktop/Guvi/Project/Vaccination Analysis/data_clean/coverage.csv')\n"
     ]
    }
   ],
   "source": [
    "import pandas as pd\n",
    "df1=pd.read_csv('C:/Users/saisenthur/OneDrive/Desktop/Guvi/Project/Vaccination Analysis/data_clean/coverage.csv')\n",
    "df2=pd.read_csv('C:/Users/saisenthur/OneDrive/Desktop/Guvi/Project/Vaccination Analysis/data_clean/incidence-rate.csv')\n",
    "df3=pd.read_csv('C:/Users/saisenthur/OneDrive/Desktop/Guvi/Project/Vaccination Analysis/data_clean/reported-cases.csv')\n",
    "df4=pd.read_csv('C:/Users/saisenthur/OneDrive/Desktop/Guvi/Project/Vaccination Analysis/data_clean/vaccine-introduction.csv')\n",
    "df5=pd.read_csv('C:/Users/saisenthur/OneDrive/Desktop/Guvi/Project/Vaccination Analysis/data_clean/vaccine-schedule.csv')\n"
   ]
  },
  {
   "cell_type": "code",
   "execution_count": 16,
   "metadata": {},
   "outputs": [
    {
     "data": {
      "text/plain": [
       "8052"
      ]
     },
     "execution_count": 16,
     "metadata": {},
     "output_type": "execute_result"
    }
   ],
   "source": [
    "from sqlalchemy import create_engine\n",
    "from urllib.parse import quote_plus\n",
    "\n",
    "mysql_user = \"root\"         # Replace with your MySQL username\n",
    "mysql_password = quote_plus(\"Saisenthur@13\")     # Replace with your MySQL password\n",
    "mysql_host = \"localhost\"             # Replace with your MySQL host\n",
    "mysql_port = 3306                    # Default MySQL port\n",
    "mysql_db = \"Vaccine_Analysis\"      # Replace with your database name\n",
    "\n",
    "engine = create_engine(f\"mysql+mysqlconnector://{mysql_user}:{mysql_password}@{mysql_host}:{mysql_port}/{mysql_db}\")\n",
    "\n",
    "df1.to_sql('coverage', con=engine, if_exists='append', index=False)\n",
    "df2.to_sql('incidence-rate', con=engine, if_exists='append', index=False)\n",
    "df3.to_sql('reported-cases', con=engine, if_exists='append', index=False)\n",
    "df4.to_sql('vaccine-introduction', con=engine, if_exists='append', index=False)\n",
    "df5.to_sql('vaccine-schedule', con=engine, if_exists='append', index=False)\n"
   ]
  }
 ],
 "metadata": {
  "kernelspec": {
   "display_name": "env",
   "language": "python",
   "name": "python3"
  },
  "language_info": {
   "codemirror_mode": {
    "name": "ipython",
    "version": 3
   },
   "file_extension": ".py",
   "mimetype": "text/x-python",
   "name": "python",
   "nbconvert_exporter": "python",
   "pygments_lexer": "ipython3",
   "version": "3.13.0"
  }
 },
 "nbformat": 4,
 "nbformat_minor": 2
}
