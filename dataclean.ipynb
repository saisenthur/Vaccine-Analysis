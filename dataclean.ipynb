{
 "cells": [
  {
   "cell_type": "code",
   "execution_count": 32,
   "metadata": {},
   "outputs": [],
   "source": [
    "import pandas as pd\n",
    "import matplotlib.pyplot as plt"
   ]
  },
  {
   "cell_type": "code",
   "execution_count": 36,
   "metadata": {},
   "outputs": [],
   "source": [
    "coverage = pd.read_csv('C:/Users/saisenthur/OneDrive/Desktop/Guvi/Project/Vaccination Analysis/data_csv/coverage-data.csv' , encoding='latin-1')\n",
    "inc_rate = pd.read_csv('C:/Users/saisenthur/OneDrive/Desktop/Guvi/Project/Vaccination Analysis/data_csv/incidence-rate-data.csv', encoding='latin-1')\n",
    "rep_cas = pd.read_csv('C:/Users/saisenthur/OneDrive/Desktop/Guvi/Project/Vaccination Analysis/data_csv/reported-cases-data.csv', encoding='latin-1')\n",
    "vac_intro = pd.read_csv('C:/Users/saisenthur/OneDrive/Desktop/Guvi/Project/Vaccination Analysis/data_csv/vaccine-introduction-data.csv', encoding='latin-1')\n",
    "vac_sch = pd.read_csv('C:/Users/saisenthur/OneDrive/Desktop/Guvi/Project/Vaccination Analysis/data_csv/vaccine-schedule-data.csv', encoding='latin-1')"
   ]
  },
  {
   "cell_type": "code",
   "execution_count": 49,
   "metadata": {},
   "outputs": [],
   "source": [
    "cov_clean=coverage.dropna()\n",
    "cov_clean = cov_clean[cov_clean['TARGET_NUMBER']>0]\n",
    "cov_clean = cov_clean[cov_clean['DOSES']>0]\n",
    "cov_clean['PERCENTAGE']=cov_clean['DOSES']/cov_clean['TARGET_NUMBER']*100\n",
    "cov_clean['COVERAGE']=cov_clean['PERCENTAGE']\n",
    "cov_clean.drop('PERCENTAGE', axis=1, inplace=True)\n",
    "cov_clean['YEAR'] = pd.to_datetime(cov_clean['YEAR'], format='%Y')\n",
    "cov_clean.to_csv('C:/Users/saisenthur/OneDrive/Desktop/Guvi/Project/Vaccination Analysis/data_clean/coverage.csv', index=False)"
   ]
  },
  {
   "cell_type": "code",
   "execution_count": 50,
   "metadata": {},
   "outputs": [
    {
     "name": "stderr",
     "output_type": "stream",
     "text": [
      "C:\\Users\\saisenthur\\AppData\\Local\\Temp\\ipykernel_24036\\619568010.py:2: SettingWithCopyWarning: \n",
      "A value is trying to be set on a copy of a slice from a DataFrame.\n",
      "Try using .loc[row_indexer,col_indexer] = value instead\n",
      "\n",
      "See the caveats in the documentation: https://pandas.pydata.org/pandas-docs/stable/user_guide/indexing.html#returning-a-view-versus-a-copy\n",
      "  inc_rate_clean['YEAR'] = pd.to_datetime(inc_rate_clean['YEAR'], format='%Y')\n"
     ]
    }
   ],
   "source": [
    "inc_rate_clean=inc_rate.dropna()\n",
    "inc_rate_clean['YEAR'] = pd.to_datetime(inc_rate_clean['YEAR'], format='%Y')\n",
    "inc_rate_clean.to_csv('C:/Users/saisenthur/OneDrive/Desktop/Guvi/Project/Vaccination Analysis/data_clean/incidence-rate.csv', index=False)"
   ]
  },
  {
   "cell_type": "code",
   "execution_count": 51,
   "metadata": {},
   "outputs": [
    {
     "name": "stderr",
     "output_type": "stream",
     "text": [
      "C:\\Users\\saisenthur\\AppData\\Local\\Temp\\ipykernel_24036\\1622894512.py:2: SettingWithCopyWarning: \n",
      "A value is trying to be set on a copy of a slice from a DataFrame.\n",
      "Try using .loc[row_indexer,col_indexer] = value instead\n",
      "\n",
      "See the caveats in the documentation: https://pandas.pydata.org/pandas-docs/stable/user_guide/indexing.html#returning-a-view-versus-a-copy\n",
      "  rep_cas_clean['YEAR'] = pd.to_datetime(rep_cas_clean['YEAR'], format='%Y')\n"
     ]
    }
   ],
   "source": [
    "rep_cas_clean=rep_cas.dropna()\n",
    "rep_cas_clean['YEAR'] = pd.to_datetime(rep_cas_clean['YEAR'], format='%Y')\n",
    "rep_cas_clean.to_csv('C:/Users/saisenthur/OneDrive/Desktop/Guvi/Project/Vaccination Analysis/data_clean/reported-cases.csv', index=False)"
   ]
  },
  {
   "cell_type": "code",
   "execution_count": 52,
   "metadata": {},
   "outputs": [],
   "source": [
    "vac_intro['YEAR'] = pd.to_datetime(vac_intro['YEAR'], format='%Y')\n",
    "vac_intro.to_csv('C:/Users/saisenthur/OneDrive/Desktop/Guvi/Project/Vaccination Analysis/data_clean/vaccine-introduction.csv', index=False)"
   ]
  },
  {
   "cell_type": "code",
   "execution_count": 53,
   "metadata": {},
   "outputs": [],
   "source": [
    "vac_sch['YEAR'] = pd.to_datetime(vac_sch['YEAR'], format='%Y')\n",
    "vac_sch.to_csv('C:/Users/saisenthur/OneDrive/Desktop/Guvi/Project/Vaccination Analysis/data_clean/vaccine-schedule.csv', index=False)"
   ]
  }
 ],
 "metadata": {
  "kernelspec": {
   "display_name": "env",
   "language": "python",
   "name": "python3"
  },
  "language_info": {
   "codemirror_mode": {
    "name": "ipython",
    "version": 3
   },
   "file_extension": ".py",
   "mimetype": "text/x-python",
   "name": "python",
   "nbconvert_exporter": "python",
   "pygments_lexer": "ipython3",
   "version": "3.13.0"
  }
 },
 "nbformat": 4,
 "nbformat_minor": 2
}
