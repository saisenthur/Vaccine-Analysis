{
 "cells": [
  {
   "cell_type": "code",
   "execution_count": 21,
   "metadata": {},
   "outputs": [],
   "source": [
    "import pyodbc"
   ]
  },
  {
   "cell_type": "code",
   "execution_count": 23,
   "metadata": {},
   "outputs": [],
   "source": [
    "server = r'LAPTOP-JQ73B78M\\MSSQLSERVER01'\n",
    "username = r'LAPTOP-JQ73B78M\\saisenthur'\n",
    "password = 'Saisenthur@13'\n",
    "\n",
    "# Create a connection to SQL Server\n",
    "conn_string = f\"DRIVER={{ODBC Driver 17 for SQL Server}};SERVER={server};UID={username};PWD={password};Trusted_Connection=yes\"\n",
    "conn = pyodbc.connect(conn_string, autocommit=True)\n",
    "cursor = conn.cursor()\n"
   ]
  },
  {
   "cell_type": "code",
   "execution_count": 25,
   "metadata": {},
   "outputs": [
    {
     "data": {
      "text/plain": [
       "<pyodbc.Cursor at 0x208e67ef430>"
      ]
     },
     "execution_count": 25,
     "metadata": {},
     "output_type": "execute_result"
    }
   ],
   "source": [
    "# Define the new database name\n",
    "database_name = \"Vaccine_Analysis\"\n",
    "\n",
    "# Create the database\n",
    "create_db_query = f\"CREATE DATABASE {database_name}\"\n",
    "cursor.execute(create_db_query)"
   ]
  },
  {
   "cell_type": "code",
   "execution_count": 41,
   "metadata": {},
   "outputs": [],
   "source": [
    "import pandas as pd\n",
    "df1=pd.read_csv('C:/Users/saisenthur/OneDrive/Desktop/Guvi/Project/Vaccination Analysis/data_clean/coverage.csv')\n",
    "df2=pd.read_csv('C:/Users/saisenthur/OneDrive/Desktop/Guvi/Project/Vaccination Analysis/data_clean/incidence-rate.csv')\n",
    "df3=pd.read_csv('C:/Users/saisenthur/OneDrive/Desktop/Guvi/Project/Vaccination Analysis/data_clean/reported-cases.csv')\n",
    "df4=pd.read_csv('C:/Users/saisenthur/OneDrive/Desktop/Guvi/Project/Vaccination Analysis/data_clean/vaccine-introduction.csv')\n",
    "df5=pd.read_csv('C:/Users/saisenthur/OneDrive/Desktop/Guvi/Project/Vaccination Analysis/data_clean/vaccine-schedule.csv')"
   ]
  },
  {
   "cell_type": "code",
   "execution_count": null,
   "metadata": {},
   "outputs": [],
   "source": [
    "from sqlalchemy import create_engine\n",
    "\n",
    "# Define your SQL Server connection details\n",
    "server = r'LAPTOP-JQ73B78M\\MSSQLSERVER01'\n",
    "database = 'Vaccine_Analysis'\n",
    "username = r'LAPTOP-JQ73B78M\\saisenthur'\n",
    "password = 'Saisenthur@13'\n",
    "\n",
    "# Create an SQLAlchemy engine for SQL Server\n",
    "conn_string = f\"mssql+pyodbc://{username}:{password}@{server}/{database}?driver=ODBC+Driver+17+for+SQL+Server\"\n",
    "engine = create_engine(conn_string)\n",
    "\n",
    "df1.to_sql('coverage', con=engine, if_exists='append', index=False)\n",
    "df2.to_sql('incidence-rate', con=engine, if_exists='append', index=False)\n",
    "df3.to_sql('reported-cases', con=engine, if_exists='append', index=False)\n",
    "df4.to_sql('vaccine-introduction', con=engine, if_exists='append', index=False)\n",
    "df5.to_sql('vaccine-schedule', con=engine, if_exists='append', index=False)"
   ]
  }
 ],
 "metadata": {
  "kernelspec": {
   "display_name": "env",
   "language": "python",
   "name": "python3"
  },
  "language_info": {
   "codemirror_mode": {
    "name": "ipython",
    "version": 3
   },
   "file_extension": ".py",
   "mimetype": "text/x-python",
   "name": "python",
   "nbconvert_exporter": "python",
   "pygments_lexer": "ipython3",
   "version": "3.13.0"
  }
 },
 "nbformat": 4,
 "nbformat_minor": 2
}
